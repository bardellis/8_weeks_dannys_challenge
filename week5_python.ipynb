{
 "cells": [
  {
   "cell_type": "code",
   "execution_count": 1,
   "id": "33973125",
   "metadata": {},
   "outputs": [],
   "source": [
    "import pandas as pd"
   ]
  },
  {
   "cell_type": "code",
   "execution_count": 2,
   "id": "cd713814",
   "metadata": {},
   "outputs": [
    {
     "data": {
      "text/html": [
       "<div>\n",
       "<style scoped>\n",
       "    .dataframe tbody tr th:only-of-type {\n",
       "        vertical-align: middle;\n",
       "    }\n",
       "\n",
       "    .dataframe tbody tr th {\n",
       "        vertical-align: top;\n",
       "    }\n",
       "\n",
       "    .dataframe thead th {\n",
       "        text-align: right;\n",
       "    }\n",
       "</style>\n",
       "<table border=\"1\" class=\"dataframe\">\n",
       "  <thead>\n",
       "    <tr style=\"text-align: right;\">\n",
       "      <th></th>\n",
       "      <th>week_date</th>\n",
       "      <th>date_format</th>\n",
       "      <th>segment</th>\n",
       "      <th>day_number</th>\n",
       "      <th>month_number</th>\n",
       "      <th>year_number</th>\n",
       "      <th>age_band</th>\n",
       "      <th>demographic</th>\n",
       "      <th>transactions</th>\n",
       "      <th>sales</th>\n",
       "      <th>region</th>\n",
       "      <th>avg_transaction</th>\n",
       "      <th>platform</th>\n",
       "      <th>week_day</th>\n",
       "      <th>week_number</th>\n",
       "    </tr>\n",
       "  </thead>\n",
       "  <tbody>\n",
       "    <tr>\n",
       "      <th>0</th>\n",
       "      <td>31/8/20</td>\n",
       "      <td>2020-08-31</td>\n",
       "      <td>C3</td>\n",
       "      <td>31</td>\n",
       "      <td>8</td>\n",
       "      <td>20</td>\n",
       "      <td>Retirees</td>\n",
       "      <td>Couples</td>\n",
       "      <td>120631</td>\n",
       "      <td>3656163</td>\n",
       "      <td>ASIA</td>\n",
       "      <td>30</td>\n",
       "      <td>Retail</td>\n",
       "      <td>Monday</td>\n",
       "      <td>35</td>\n",
       "    </tr>\n",
       "    <tr>\n",
       "      <th>1</th>\n",
       "      <td>31/8/20</td>\n",
       "      <td>2020-08-31</td>\n",
       "      <td>F1</td>\n",
       "      <td>31</td>\n",
       "      <td>8</td>\n",
       "      <td>20</td>\n",
       "      <td>Young Adults</td>\n",
       "      <td>Families</td>\n",
       "      <td>31574</td>\n",
       "      <td>996575</td>\n",
       "      <td>ASIA</td>\n",
       "      <td>32</td>\n",
       "      <td>Retail</td>\n",
       "      <td>Monday</td>\n",
       "      <td>35</td>\n",
       "    </tr>\n",
       "    <tr>\n",
       "      <th>2</th>\n",
       "      <td>31/8/20</td>\n",
       "      <td>2020-08-31</td>\n",
       "      <td>NaN</td>\n",
       "      <td>31</td>\n",
       "      <td>8</td>\n",
       "      <td>20</td>\n",
       "      <td>Unknown</td>\n",
       "      <td>Unknown</td>\n",
       "      <td>529151</td>\n",
       "      <td>16509610</td>\n",
       "      <td>USA</td>\n",
       "      <td>31</td>\n",
       "      <td>Retail</td>\n",
       "      <td>Monday</td>\n",
       "      <td>35</td>\n",
       "    </tr>\n",
       "    <tr>\n",
       "      <th>3</th>\n",
       "      <td>31/8/20</td>\n",
       "      <td>2020-08-31</td>\n",
       "      <td>C1</td>\n",
       "      <td>31</td>\n",
       "      <td>8</td>\n",
       "      <td>20</td>\n",
       "      <td>Young Adults</td>\n",
       "      <td>Couples</td>\n",
       "      <td>4517</td>\n",
       "      <td>141942</td>\n",
       "      <td>EUROPE</td>\n",
       "      <td>31</td>\n",
       "      <td>Retail</td>\n",
       "      <td>Monday</td>\n",
       "      <td>35</td>\n",
       "    </tr>\n",
       "    <tr>\n",
       "      <th>4</th>\n",
       "      <td>31/8/20</td>\n",
       "      <td>2020-08-31</td>\n",
       "      <td>C2</td>\n",
       "      <td>31</td>\n",
       "      <td>8</td>\n",
       "      <td>20</td>\n",
       "      <td>Middle Aged</td>\n",
       "      <td>Couples</td>\n",
       "      <td>58046</td>\n",
       "      <td>1758388</td>\n",
       "      <td>AFRICA</td>\n",
       "      <td>30</td>\n",
       "      <td>Retail</td>\n",
       "      <td>Monday</td>\n",
       "      <td>35</td>\n",
       "    </tr>\n",
       "  </tbody>\n",
       "</table>\n",
       "</div>"
      ],
      "text/plain": [
       "  week_date date_format segment  day_number  month_number  year_number  \\\n",
       "0   31/8/20  2020-08-31      C3          31             8           20   \n",
       "1   31/8/20  2020-08-31      F1          31             8           20   \n",
       "2   31/8/20  2020-08-31     NaN          31             8           20   \n",
       "3   31/8/20  2020-08-31      C1          31             8           20   \n",
       "4   31/8/20  2020-08-31      C2          31             8           20   \n",
       "\n",
       "       age_band demographic  transactions     sales  region  avg_transaction  \\\n",
       "0      Retirees     Couples        120631   3656163    ASIA               30   \n",
       "1  Young Adults    Families         31574    996575    ASIA               32   \n",
       "2       Unknown     Unknown        529151  16509610     USA               31   \n",
       "3  Young Adults     Couples          4517    141942  EUROPE               31   \n",
       "4   Middle Aged     Couples         58046   1758388  AFRICA               30   \n",
       "\n",
       "  platform week_day  week_number  \n",
       "0   Retail   Monday           35  \n",
       "1   Retail   Monday           35  \n",
       "2   Retail   Monday           35  \n",
       "3   Retail   Monday           35  \n",
       "4   Retail   Monday           35  "
      ]
     },
     "execution_count": 2,
     "metadata": {},
     "output_type": "execute_result"
    }
   ],
   "source": [
    "data = pd.read_csv('clean_weekly_sales.csv')\n",
    "data.head()"
   ]
  },
  {
   "cell_type": "code",
   "execution_count": 4,
   "id": "d50df69c",
   "metadata": {},
   "outputs": [
    {
     "data": {
      "text/plain": [
       "(17117, 15)"
      ]
     },
     "execution_count": 4,
     "metadata": {},
     "output_type": "execute_result"
    }
   ],
   "source": [
    "data.shape"
   ]
  },
  {
   "cell_type": "code",
   "execution_count": 3,
   "id": "6aade051",
   "metadata": {},
   "outputs": [
    {
     "data": {
      "text/plain": [
       "Index(['week_date', 'date_format', 'segment', 'day_number', 'month_number',\n",
       "       'year_number', 'age_band', 'demographic', 'transactions', 'sales',\n",
       "       'region', 'avg_transaction', 'platform', 'week_day', 'week_number'],\n",
       "      dtype='object')"
      ]
     },
     "execution_count": 3,
     "metadata": {},
     "output_type": "execute_result"
    }
   ],
   "source": [
    "data.columns"
   ]
  },
  {
   "cell_type": "code",
   "execution_count": 4,
   "id": "45c9aee9",
   "metadata": {},
   "outputs": [
    {
     "data": {
      "text/plain": [
       "week_date          object\n",
       "date_format        object\n",
       "segment            object\n",
       "day_number          int64\n",
       "month_number        int64\n",
       "year_number         int64\n",
       "age_band           object\n",
       "demographic        object\n",
       "transactions        int64\n",
       "sales               int64\n",
       "region             object\n",
       "avg_transaction     int64\n",
       "platform           object\n",
       "week_day           object\n",
       "week_number         int64\n",
       "dtype: object"
      ]
     },
     "execution_count": 4,
     "metadata": {},
     "output_type": "execute_result"
    }
   ],
   "source": [
    "data.dtypes"
   ]
  },
  {
   "cell_type": "code",
   "execution_count": 5,
   "id": "cc2819dd",
   "metadata": {},
   "outputs": [
    {
     "data": {
      "text/plain": [
       "Retail     8568\n",
       "Shopify    8549\n",
       "Name: platform, dtype: int64"
      ]
     },
     "execution_count": 5,
     "metadata": {},
     "output_type": "execute_result"
    }
   ],
   "source": [
    "data['platform'].value_counts()"
   ]
  },
  {
   "cell_type": "code",
   "execution_count": 8,
   "id": "07009cd1",
   "metadata": {},
   "outputs": [
    {
     "data": {
      "text/html": [
       "<div>\n",
       "<style scoped>\n",
       "    .dataframe tbody tr th:only-of-type {\n",
       "        vertical-align: middle;\n",
       "    }\n",
       "\n",
       "    .dataframe tbody tr th {\n",
       "        vertical-align: top;\n",
       "    }\n",
       "\n",
       "    .dataframe thead th {\n",
       "        text-align: right;\n",
       "    }\n",
       "</style>\n",
       "<table border=\"1\" class=\"dataframe\">\n",
       "  <thead>\n",
       "    <tr style=\"text-align: right;\">\n",
       "      <th>platform</th>\n",
       "      <th>Retail</th>\n",
       "      <th>Shopify</th>\n",
       "    </tr>\n",
       "    <tr>\n",
       "      <th>year_number</th>\n",
       "      <th></th>\n",
       "      <th></th>\n",
       "    </tr>\n",
       "  </thead>\n",
       "  <tbody>\n",
       "    <tr>\n",
       "      <th>18</th>\n",
       "      <td>42.91</td>\n",
       "      <td>188.29</td>\n",
       "    </tr>\n",
       "    <tr>\n",
       "      <th>19</th>\n",
       "      <td>41.97</td>\n",
       "      <td>177.58</td>\n",
       "    </tr>\n",
       "    <tr>\n",
       "      <th>20</th>\n",
       "      <td>40.65</td>\n",
       "      <td>174.89</td>\n",
       "    </tr>\n",
       "  </tbody>\n",
       "</table>\n",
       "</div>"
      ],
      "text/plain": [
       "platform     Retail  Shopify\n",
       "year_number                 \n",
       "18            42.91   188.29\n",
       "19            41.97   177.58\n",
       "20            40.65   174.89"
      ]
     },
     "execution_count": 8,
     "metadata": {},
     "output_type": "execute_result"
    }
   ],
   "source": [
    "Platform = data.pivot_table(index='year_number', columns='platform', values='avg_transaction', aggfunc='mean')\n",
    "Platform = Platform.round(2)\n",
    "Platform"
   ]
  },
  {
   "cell_type": "code",
   "execution_count": null,
   "id": "1f9e702d",
   "metadata": {},
   "outputs": [],
   "source": []
  }
 ],
 "metadata": {
  "kernelspec": {
   "display_name": "My Project Env",
   "language": "python",
   "name": "myprojectenv"
  },
  "language_info": {
   "codemirror_mode": {
    "name": "ipython",
    "version": 3
   },
   "file_extension": ".py",
   "mimetype": "text/x-python",
   "name": "python",
   "nbconvert_exporter": "python",
   "pygments_lexer": "ipython3",
   "version": "3.10.1"
  }
 },
 "nbformat": 4,
 "nbformat_minor": 5
}
